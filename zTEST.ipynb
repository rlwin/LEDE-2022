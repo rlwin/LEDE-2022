{
 "cells": [
  {
   "cell_type": "code",
   "execution_count": 1,
   "id": "e51ba8f7",
   "metadata": {},
   "outputs": [
    {
     "data": {
      "text/plain": [
       "7"
      ]
     },
     "execution_count": 1,
     "metadata": {},
     "output_type": "execute_result"
    }
   ],
   "source": [
    "7"
   ]
  },
  {
   "cell_type": "code",
   "execution_count": 2,
   "id": "6f6f0b27",
   "metadata": {},
   "outputs": [
    {
     "name": "stdout",
     "output_type": "stream",
     "text": [
      "49\n"
     ]
    }
   ],
   "source": [
    "print(7*7)"
   ]
  },
  {
   "cell_type": "code",
   "execution_count": 3,
   "id": "3e83c236",
   "metadata": {},
   "outputs": [
    {
     "data": {
      "text/plain": [
       "49"
      ]
     },
     "execution_count": 3,
     "metadata": {},
     "output_type": "execute_result"
    }
   ],
   "source": [
    "7*7"
   ]
  },
  {
   "cell_type": "code",
   "execution_count": 16,
   "id": "d4b95d66",
   "metadata": {},
   "outputs": [],
   "source": [
    "name='rachel'"
   ]
  },
  {
   "cell_type": "code",
   "execution_count": 20,
   "id": "57953d8f",
   "metadata": {},
   "outputs": [
    {
     "data": {
      "text/plain": [
       "'alex'"
      ]
     },
     "execution_count": 20,
     "metadata": {},
     "output_type": "execute_result"
    }
   ],
   "source": [
    "name"
   ]
  },
  {
   "cell_type": "code",
   "execution_count": 18,
   "id": "6dc992d1",
   "metadata": {},
   "outputs": [],
   "source": [
    "name='alex'"
   ]
  },
  {
   "cell_type": "code",
   "execution_count": 19,
   "id": "e03bd7c0",
   "metadata": {},
   "outputs": [
    {
     "data": {
      "text/plain": [
       "'alex'"
      ]
     },
     "execution_count": 19,
     "metadata": {},
     "output_type": "execute_result"
    }
   ],
   "source": [
    "name\n"
   ]
  },
  {
   "cell_type": "code",
   "execution_count": 26,
   "id": "daeebb7f",
   "metadata": {},
   "outputs": [],
   "source": [
    "print='num'"
   ]
  },
  {
   "cell_type": "code",
   "execution_count": 27,
   "id": "af300258",
   "metadata": {},
   "outputs": [
    {
     "data": {
      "text/plain": [
       "100"
      ]
     },
     "execution_count": 27,
     "metadata": {},
     "output_type": "execute_result"
    }
   ],
   "source": [
    "num*num"
   ]
  },
  {
   "cell_type": "code",
   "execution_count": 28,
   "id": "ac07ac68",
   "metadata": {},
   "outputs": [
    {
     "data": {
      "text/plain": [
       "100"
      ]
     },
     "execution_count": 28,
     "metadata": {},
     "output_type": "execute_result"
    }
   ],
   "source": [
    "num*num"
   ]
  },
  {
   "cell_type": "code",
   "execution_count": null,
   "id": "87f61b15",
   "metadata": {},
   "outputs": [],
   "source": []
  }
 ],
 "metadata": {
  "kernelspec": {
   "display_name": "Python 3 (ipykernel)",
   "language": "python",
   "name": "python3"
  },
  "language_info": {
   "codemirror_mode": {
    "name": "ipython",
    "version": 3
   },
   "file_extension": ".py",
   "mimetype": "text/x-python",
   "name": "python",
   "nbconvert_exporter": "python",
   "pygments_lexer": "ipython3",
   "version": "3.10.3"
  }
 },
 "nbformat": 4,
 "nbformat_minor": 5
}
