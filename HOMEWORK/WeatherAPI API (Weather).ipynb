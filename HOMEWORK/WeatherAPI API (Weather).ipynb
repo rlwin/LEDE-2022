{
 "cells": [
  {
   "cell_type": "markdown",
   "metadata": {},
   "source": [
    "# WeatherAPI (Weather)\n",
    "\n",
    "Answer the following questions using [WeatherAPI](http://www.weatherapi.com/). I've added three cells for most questions but you're free to use more or less! Hold `Shift` and hit `Enter` to run a cell, and use the `+` on the top left to add a new cell to a notebook.\n",
    "\n",
    "Be sure to take advantage of both the documentation and the API Explorer!\n",
    "\n",
    "## 0) Import any libraries you might need\n",
    "\n",
    "- *Tip: We're going to be downloading things from the internet, so we probably need `requests`.*\n",
    "- *Tip: Remember you only need to import requests once!*"
   ]
  },
  {
   "cell_type": "code",
   "execution_count": 95,
   "metadata": {},
   "outputs": [],
   "source": [
    "import requests\n",
    "url='http://api.weatherapi.com/v1/current.json?key=fcedd833a9614b4abc220520221406&q=manchester'\n",
    "\n",
    "response=requests.get(url)\n",
    "data=response.json()\n"
   ]
  },
  {
   "cell_type": "markdown",
   "metadata": {},
   "source": []
  },
  {
   "cell_type": "code",
   "execution_count": null,
   "metadata": {
    "collapsed": true
   },
   "outputs": [],
   "source": []
  },
  {
   "cell_type": "code",
   "execution_count": null,
   "metadata": {
    "collapsed": true
   },
   "outputs": [],
   "source": []
  },
  {
   "cell_type": "markdown",
   "metadata": {
    "collapsed": true
   },
   "source": [
    "## 1) Make a request to the Weather API for where you were born (or lived, or want to visit!).\n",
    "\n",
    "- *Tip: The URL we used in class was for a place near San Francisco. What was the format of the endpoint that made this happen?*\n",
    "- *Tip: Save the URL as a separate variable, and be sure to not have `[` and `]` inside.*\n",
    "- *Tip: How is north vs. south and east vs. west latitude/longitude represented? Is it the normal North/South/East/West?*\n",
    "- *Tip: You know it's JSON, but Python doesn't! Make sure you aren't trying to deal with plain text.* \n",
    "- *Tip: Once you've imported the JSON into a variable, check the timezone's name to make sure it seems like it got the right part of the world!*"
   ]
  },
  {
   "cell_type": "code",
   "execution_count": 96,
   "metadata": {
    "collapsed": true
   },
   "outputs": [
    {
     "name": "stdout",
     "output_type": "stream",
     "text": [
      "{'name': 'Manchester', 'region': 'Greater Manchester', 'country': 'United Kingdom', 'lat': 53.48, 'lon': -2.25, 'tz_id': 'Europe/London', 'localtime_epoch': 1655529182, 'localtime': '2022-06-18 6:13'}\n"
     ]
    }
   ],
   "source": [
    "# see above!\n",
    "#print(data.keys())\n",
    "print(data['location'])"
   ]
  },
  {
   "cell_type": "code",
   "execution_count": null,
   "metadata": {
    "collapsed": true
   },
   "outputs": [],
   "source": []
  },
  {
   "cell_type": "code",
   "execution_count": null,
   "metadata": {
    "collapsed": true
   },
   "outputs": [],
   "source": []
  },
  {
   "cell_type": "markdown",
   "metadata": {},
   "source": [
    "## 2) What's the current wind speed? How much warmer does it feel than it actually is?\n",
    "\n",
    "- *Tip: You can do this by browsing through the dictionaries, but it might be easier to read the documentation*\n",
    "- *Tip: For the second half: it **is** one temperature, and it **feels** a different temperature. Calculate the difference.*"
   ]
  },
  {
   "cell_type": "code",
   "execution_count": 91,
   "metadata": {},
   "outputs": [
    {
     "name": "stdout",
     "output_type": "stream",
     "text": [
      "{'last_updated_epoch': 1655524800, 'last_updated': '2022-06-18 05:00', 'temp_c': 13.0, 'temp_f': 55.4, 'is_day': 1, 'condition': {'text': 'Overcast', 'icon': '//cdn.weatherapi.com/weather/64x64/day/122.png', 'code': 1009}, 'wind_mph': 9.4, 'wind_kph': 15.1, 'wind_degree': 340, 'wind_dir': 'NNW', 'pressure_mb': 1021.0, 'pressure_in': 30.15, 'precip_mm': 0.0, 'precip_in': 0.0, 'humidity': 72, 'cloud': 100, 'feelslike_c': 12.1, 'feelslike_f': 53.8, 'vis_km': 10.0, 'vis_miles': 6.0, 'uv': 4.0, 'gust_mph': 8.9, 'gust_kph': 14.4}\n"
     ]
    }
   ],
   "source": [
    "print(data['current'])\n"
   ]
  },
  {
   "cell_type": "code",
   "execution_count": 97,
   "metadata": {},
   "outputs": [
    {
     "name": "stdout",
     "output_type": "stream",
     "text": [
      "The current wind speed is 9.4mph\n"
     ]
    }
   ],
   "source": [
    "current_weather=data['current']\n",
    "current_wind=current_weather['wind_mph']\n",
    "print(f\"The current wind speed is {current_wind}mph\")"
   ]
  },
  {
   "cell_type": "code",
   "execution_count": 93,
   "metadata": {},
   "outputs": [
    {
     "name": "stdout",
     "output_type": "stream",
     "text": [
      "It feels 0.9 degrees C colder than the current temp.\n"
     ]
    }
   ],
   "source": [
    "if current_weather['feelslike_c']>current_weather['temp_c']:\n",
    "    temp_feel=current_weather['feelslike_c']-current_weather['temp_c']\n",
    "    print(\"it feels\", round(temp_feel, 2), \"degrees C warmer than the current temp.\")\n",
    "else:\n",
    "    temp_feel=current_weather['temp_c']-current_weather['feelslike_c']\n",
    "    print(\"It feels\", round(temp_feel, 2), \"degrees C colder than the current temp.\" )"
   ]
  },
  {
   "cell_type": "markdown",
   "metadata": {},
   "source": [
    "## 3) What is the API endpoint for moon-related information? For the place you decided on above, how much of the moon will be visible tomorrow?\n",
    "\n",
    "- *Tip: Check the documentation!*\n",
    "- *Tip: If you aren't sure what something means, ask in Slack*"
   ]
  },
  {
   "cell_type": "code",
   "execution_count": 4,
   "metadata": {},
   "outputs": [],
   "source": [
    "url2='http://api.weatherapi.com/v1/astronomy.json?key=fcedd833a9614b4abc220520221406&q=manchester&dt=2022-06-19'\n",
    "import requests\n",
    "response2=requests.get(url2)\n",
    "data2=response2.json()\n"
   ]
  },
  {
   "cell_type": "code",
   "execution_count": null,
   "metadata": {},
   "outputs": [],
   "source": [
    "\n"
   ]
  },
  {
   "cell_type": "code",
   "execution_count": 9,
   "metadata": {},
   "outputs": [
    {
     "name": "stdout",
     "output_type": "stream",
     "text": [
      "Tomorrow, on the 19th, the moon will be 66% visable at a Waning Gibbous\n"
     ]
    }
   ],
   "source": [
    "#print(data2.keys())\n",
    "#dict_keys(['location', 'astronomy'])\n",
    "#print(data2['astronomy'])\n",
    "visable=(data2['astronomy']['astro']['moon_illumination'])\n",
    "phase=(data2['astronomy']['astro']['moon_phase'])\n",
    "\n",
    "print(f\"Tomorrow, on the 19th, the moon will be {visable}% visable at a {phase}\")\n",
    "\n"
   ]
  },
  {
   "cell_type": "markdown",
   "metadata": {},
   "source": [
    "## 4) What's the difference between the high and low temperatures for today?\n",
    "\n",
    "- *Tip: When you requested moon data, you probably overwrote your variables! If so, you'll need to make a new request.*"
   ]
  },
  {
   "cell_type": "code",
   "execution_count": 10,
   "metadata": {},
   "outputs": [
    {
     "name": "stdout",
     "output_type": "stream",
     "text": [
      "{'name': 'Brooklyn', 'region': 'New York', 'country': 'USA', 'lat': 40.73, 'lon': -73.95, 'tz_id': 'America/New_York', 'localtime_epoch': 1655589196, 'localtime': '2022-06-18 17:53'}\n"
     ]
    }
   ],
   "source": [
    "url3='http://api.weatherapi.com/v1/forecast.json?key=fcedd833a9614b4abc220520221406&q=11222'\n",
    "import requests\n",
    "response3=requests.get(url3)\n",
    "data3=response3.json()\n",
    "\n",
    "print(data3['location'])"
   ]
  },
  {
   "cell_type": "code",
   "execution_count": 11,
   "metadata": {},
   "outputs": [
    {
     "name": "stdout",
     "output_type": "stream",
     "text": [
      "The difference between the high and low temps for today is 6.3 degrees C\n"
     ]
    }
   ],
   "source": [
    "#print(data3.keys())\n",
    "#print(data3['forecast'].keys())\n",
    "#print(data3['forecast']['forecastday'])\n",
    "forecast_bk=(data3['forecast']['forecastday'])\n",
    "\n",
    "for forecast_current in forecast_bk:\n",
    "    forecast_temp=(forecast_current['day'])\n",
    "    if forecast_temp['maxtemp_c']>forecast_temp['mintemp_c']:\n",
    "        temp_dif=forecast_temp['maxtemp_c']-forecast_temp['mintemp_c']\n",
    "        print (f\"The difference between the high and low temps for today is {round(temp_dif, 2)} degrees C\")\n",
    "    else:\n",
    "        temp_dif=forecast_temp['mintemp_c']-forecast_temp['maxtemp_c']\n",
    "        print(f\"The difference between the high and low temps for today is {round(temp_dif, 2)} degrees C\")\n",
    "   "
   ]
  },
  {
   "cell_type": "markdown",
   "metadata": {
    "collapsed": true
   },
   "source": [
    "## 4.5) How can you avoid the \"oh no I don't have the data any more because I made another request\" problem in the future?\n",
    "\n",
    "What variable(s) do you have to rename, and what would you rename them?"
   ]
  },
  {
   "cell_type": "code",
   "execution_count": null,
   "metadata": {},
   "outputs": [],
   "source": [
    "# rename the url and response/request etc. I renamed them by order they were imported, i.e. url, url2, url3, etc"
   ]
  },
  {
   "cell_type": "code",
   "execution_count": null,
   "metadata": {},
   "outputs": [],
   "source": []
  },
  {
   "cell_type": "markdown",
   "metadata": {},
   "source": [
    "## 5) Go through the daily forecasts, printing out the next three days' worth of predictions.\n",
    "\n",
    "I'd like to know the **high temperature** for each day, and whether it's **hot, warm, or cold** (based on what temperatures you think are hot, warm or cold).\n",
    "\n",
    "- *Tip: You'll need to use an `if` statement to say whether it is hot, warm or cold.*"
   ]
  },
  {
   "cell_type": "code",
   "execution_count": 12,
   "metadata": {},
   "outputs": [
    {
     "name": "stdout",
     "output_type": "stream",
     "text": [
      "The maximum temperature for 2022-06-18 will be 21.9degrees C\n",
      "The maximum temperature for 2022-06-19 will be 26.1degrees C\n",
      "The maximum temperature for 2022-06-20 will be 30.1degrees C\n"
     ]
    }
   ],
   "source": [
    "import requests\n",
    "\n",
    "url4 = 'http://api.weatherapi.com/v1/forecast.json?key=fcedd833a9614b4abc220520221406&q=11222&days=3&aqi=no&alerts=no'\n",
    "response4=requests.get(url4)\n",
    "data4=response4.json()\n",
    "\n",
    "#print(data4.keys())\n",
    "#print(data4['forecast'].keys())\n",
    "threeday_forecast=(data4['forecast']['forecastday'])\n",
    "for daycast in threeday_forecast:\n",
    "    maxtemp_forecast=(daycast['day']['maxtemp_c'])\n",
    "    print(f\"The maximum temperature for {daycast['date']} will be {maxtemp_forecast}degrees C\")\n",
    "    \n"
   ]
  },
  {
   "cell_type": "code",
   "execution_count": 13,
   "metadata": {},
   "outputs": [
    {
     "name": "stdout",
     "output_type": "stream",
     "text": [
      "It will feel warm on 2022-06-18\n",
      "It will feel warm on 2022-06-19\n",
      "It will feel warm on 2022-06-20\n"
     ]
    }
   ],
   "source": [
    "\n",
    "for daycast in threeday_forecast:   \n",
    "    if maxtemp_forecast<15:\n",
    "        print(f\"It will feel cold on {daycast['date']}\")\n",
    "    elif maxtemp_forecast>=15:\n",
    "        print(f\"It will feel warm on {daycast['date']}\")\n",
    "    elif maxtemp_forecast>25:\n",
    "        print(f\"It will feel hot on {daycast['date']}\")\n",
    "\n",
    "\n"
   ]
  },
  {
   "cell_type": "code",
   "execution_count": null,
   "metadata": {},
   "outputs": [],
   "source": []
  },
  {
   "cell_type": "markdown",
   "metadata": {},
   "source": [
    "## 5b) The question above used to be an entire week, but not any more. Try to re-use the code above to print out seven days.\n",
    "\n",
    "What happens? Can you figure out why it doesn't work?\n",
    "\n",
    "* *Tip: it has to do with the reason you're using an API key - maybe take a look at the \"Air Quality Data\" introduction for a hint? If you can't figure it out right now, no worries.*"
   ]
  },
  {
   "cell_type": "code",
   "execution_count": null,
   "metadata": {},
   "outputs": [],
   "source": [
    "#API is set only to three days forecast"
   ]
  },
  {
   "cell_type": "code",
   "execution_count": null,
   "metadata": {},
   "outputs": [],
   "source": []
  },
  {
   "cell_type": "code",
   "execution_count": null,
   "metadata": {},
   "outputs": [],
   "source": []
  },
  {
   "cell_type": "markdown",
   "metadata": {},
   "source": [
    "## 6) What will be the hottest day in the next three days? What is the high temperature on that day?"
   ]
  },
  {
   "cell_type": "code",
   "execution_count": 17,
   "metadata": {},
   "outputs": [
    {
     "name": "stdout",
     "output_type": "stream",
     "text": [
      "21.9\n",
      "26.1\n",
      "30.1\n"
     ]
    }
   ],
   "source": [
    "\n",
    "for temp in threeday_forecast:\n",
    "    temp_forecast=(temp['day'])\n",
    "    high_temps=(temp_forecast['maxtemp_c'])\n",
    "    print(high_temps)\n",
    "    \n",
    "    #can't figure out, I need to make hottest_day=(high_temps[0])\n",
    "    #and then within this loop\n",
    "    # if high_temps>high_temps[0]:\n",
    "        #hottest_day=high_temps\n",
    "    #not sure how to assign the hottest_day to the first result in high_temps"
   ]
  },
  {
   "cell_type": "code",
   "execution_count": null,
   "metadata": {},
   "outputs": [],
   "source": []
  },
  {
   "cell_type": "code",
   "execution_count": null,
   "metadata": {},
   "outputs": [],
   "source": []
  },
  {
   "cell_type": "markdown",
   "metadata": {},
   "source": [
    "## 7) What's the weather looking like for the next 24+ hours in Miami, Florida?\n",
    "\n",
    "I'd like to know the temperature for every hour, and if it's going to have cloud cover of more than 50% say \"{temperature} and cloudy\" instead of just the temperature. \n",
    "\n",
    "- *Tip: You'll only need one day of forecast*"
   ]
  },
  {
   "cell_type": "code",
   "execution_count": 18,
   "metadata": {},
   "outputs": [
    {
     "name": "stdout",
     "output_type": "stream",
     "text": [
      "At 2022-06-18 00:00 it will be 28.4 degrees C and clear\n",
      "At 2022-06-18 01:00 it will be 28.5 degrees C and cloudy\n",
      "At 2022-06-18 02:00 it will be 28.4 degrees C and cloudy\n",
      "At 2022-06-18 03:00 it will be 28.4 degrees C and cloudy\n",
      "At 2022-06-18 04:00 it will be 28.2 degrees C and cloudy\n",
      "At 2022-06-18 05:00 it will be 27.7 degrees C and clear\n",
      "At 2022-06-18 06:00 it will be 27.6 degrees C and clear\n",
      "At 2022-06-18 07:00 it will be 27.6 degrees C and clear\n",
      "At 2022-06-18 08:00 it will be 27.7 degrees C and clear\n",
      "At 2022-06-18 09:00 it will be 28.0 degrees C and clear\n",
      "At 2022-06-18 10:00 it will be 28.3 degrees C and clear\n",
      "At 2022-06-18 11:00 it will be 31.5 degrees C and clear\n",
      "At 2022-06-18 12:00 it will be 31.8 degrees C and clear\n",
      "At 2022-06-18 13:00 it will be 32.3 degrees C and clear\n",
      "At 2022-06-18 14:00 it will be 32.4 degrees C and clear\n",
      "At 2022-06-18 15:00 it will be 32.5 degrees C and clear\n",
      "At 2022-06-18 16:00 it will be 32.2 degrees C and clear\n",
      "At 2022-06-18 17:00 it will be 31.6 degrees C and clear\n",
      "At 2022-06-18 18:00 it will be 30.8 degrees C and clear\n",
      "At 2022-06-18 19:00 it will be 29.6 degrees C and clear\n",
      "At 2022-06-18 20:00 it will be 29.4 degrees C and clear\n",
      "At 2022-06-18 21:00 it will be 29.4 degrees C and clear\n",
      "At 2022-06-18 22:00 it will be 29.3 degrees C and clear\n",
      "At 2022-06-18 23:00 it will be 29.2 degrees C and cloudy\n"
     ]
    }
   ],
   "source": [
    "import requests\n",
    "url5='http://api.weatherapi.com/v1/forecast.json?key=fcedd833a9614b4abc220520221406&q=Miami&days=1'\n",
    "response5=requests.get(url5)\n",
    "data5=response5.json()\n",
    "# dict_keys(['location', 'current', 'forecast'])\n",
    "#print(data5['location'])\n",
    "miami_forecast=(data5['forecast']['forecastday'])\n",
    "for hourly_forecast in miami_forecast:\n",
    "    for hourly in hourly_forecast['hour']:\n",
    "        #print(hourly['time'])\n",
    "        #print(hourly['temp_c'])\n",
    "        #print(f\"At {hourly['time']} it will be {hourly['temp_c']} degrees C\")\n",
    "        #print(hourly['cloud'])\n",
    "        if hourly['cloud']>50:\n",
    "            print(f\"At {hourly['time']} it will be {hourly['temp_c']} degrees C and cloudy\")\n",
    "        else:\n",
    "            print(f\"At {hourly['time']} it will be {hourly['temp_c']} degrees C and clear\")\n",
    "    \n",
    "\n"
   ]
  },
  {
   "cell_type": "code",
   "execution_count": null,
   "metadata": {
    "collapsed": true
   },
   "outputs": [],
   "source": []
  },
  {
   "cell_type": "code",
   "execution_count": null,
   "metadata": {
    "collapsed": true
   },
   "outputs": [],
   "source": []
  },
  {
   "cell_type": "markdown",
   "metadata": {},
   "source": [
    "## 8) For the next 24-ish hours in Miami, what percent of the time is the temperature above 85 degrees?\n",
    "\n",
    "- *Tip: You might want to read up on [looping patterns](http://jonathansoma.com/lede/foundations-2017/classes/data%20structures/looping-patterns/)*"
   ]
  },
  {
   "cell_type": "code",
   "execution_count": 19,
   "metadata": {},
   "outputs": [
    {
     "name": "stdout",
     "output_type": "stream",
     "text": [
      "The temperature will be above 85F 37.5% of the time today\n"
     ]
    }
   ],
   "source": [
    "above85=0\n",
    "\n",
    "miami_forecast=(data5['forecast']['forecastday'])\n",
    "for hourly_forecast in miami_forecast:\n",
    "    for hourly in hourly_forecast['hour']:\n",
    "        hourly_temp=hourly['temp_f']\n",
    "        if (hourly_temp)>85:\n",
    "                above85=above85+1\n",
    "above85=(above85/24*100)\n",
    "print(f\"The temperature will be above 85F {round(above85, 2)}% of the time today\")"
   ]
  },
  {
   "cell_type": "code",
   "execution_count": null,
   "metadata": {
    "collapsed": true
   },
   "outputs": [],
   "source": []
  },
  {
   "cell_type": "code",
   "execution_count": null,
   "metadata": {
    "collapsed": true
   },
   "outputs": [],
   "source": []
  },
  {
   "cell_type": "markdown",
   "metadata": {},
   "source": [
    "## 9) How much will it cost if you need to use 1,500,000 API calls?\n",
    "\n",
    "You are only allowed 1,000,000 API calls each month. If you were really bad at this homework or made some awful loops, WeatherAPI might shut down your free access. \n",
    "\n",
    "* *Tip: this involves looking somewhere that isn't the normal documentation.*"
   ]
  },
  {
   "cell_type": "code",
   "execution_count": null,
   "metadata": {},
   "outputs": [],
   "source": [
    "# $4 a month for <= 2000000 calls a month"
   ]
  },
  {
   "cell_type": "code",
   "execution_count": null,
   "metadata": {},
   "outputs": [],
   "source": []
  },
  {
   "cell_type": "markdown",
   "metadata": {},
   "source": [
    "## 10) You're too poor to spend more money! What else could you do instead of give them money?\n",
    "\n",
    "* *Tip: I'm not endorsing being sneaky, but newsrooms and students are both generally poverty-stricken.*"
   ]
  },
  {
   "cell_type": "code",
   "execution_count": null,
   "metadata": {},
   "outputs": [],
   "source": [
    "# not sure?! Sign up for student accounts? "
   ]
  }
 ],
 "metadata": {
  "kernelspec": {
   "display_name": "Python 3 (ipykernel)",
   "language": "python",
   "name": "python3"
  },
  "language_info": {
   "codemirror_mode": {
    "name": "ipython",
    "version": 3
   },
   "file_extension": ".py",
   "mimetype": "text/x-python",
   "name": "python",
   "nbconvert_exporter": "python",
   "pygments_lexer": "ipython3",
   "version": "3.10.3"
  },
  "vscode": {
   "interpreter": {
    "hash": "2d2f426418b7dbd570a25776274dfa44da597c639bdab9a67bdbdda213c11ae4"
   }
  }
 },
 "nbformat": 4,
 "nbformat_minor": 1
}
